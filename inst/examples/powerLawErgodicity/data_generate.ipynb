{
 "cells": [
  {
   "cell_type": "markdown",
   "id": "0201d596",
   "metadata": {},
   "source": [
    "# Ergodic Dynamics of Ising Model : Diffusion regimes : Data Generation\n",
    "\n",
    "    \n",
    "     (c) 2013, 2014, 2015, 2016, 2025 Süzen\n",
    "     GPL v3 \n",
    "\n",
    "This notebook contains IsingLenzMC simulation functions, data generation."
   ]
  },
  {
   "cell_type": "markdown",
   "id": "47c00df9",
   "metadata": {},
   "source": [
    "## Utility Functions"
   ]
  },
  {
   "cell_type": "code",
   "execution_count": null,
   "id": "700ab7a7",
   "metadata": {
    "vscode": {
     "languageId": "r"
    }
   },
   "outputs": [],
   "source": [
    "rm(list=ls())\n",
    "source(\"functions.R\"); \n",
    "sessionInfo()"
   ]
  },
  {
   "cell_type": "code",
   "execution_count": null,
   "id": "e079462d",
   "metadata": {
    "vscode": {
     "languageId": "r"
    }
   },
   "outputs": [],
   "source": [
    "require(\"isingLenzMC\"); # 0.2.5"
   ]
  },
  {
   "cell_type": "code",
   "execution_count": null,
   "id": "3856a69f",
   "metadata": {
    "vscode": {
     "languageId": "r"
    }
   },
   "outputs": [],
   "source": [
    " \n",
    "#\n",
    "# Using Analytic solution for ensemble magnetisation \n",
    "# using transfer matrix\n",
    "#\n",
    "#  Two state ising model: general case\n",
    "#  http://micro.stanford.edu/~caiwei/me334/\n",
    "#  Ch 7 page 35\n",
    "# \n",
    "#Z(h, B, J, N) := exp(N*B*J) * ((cosh(B*h) + sqrt(sinh(B*h)^2+exp(-4*B*J)))^N + (cosh(B*h) - sqrt(sinh(B*h)^2+exp(-4*B*J)))^N);\n",
    "\n",
    "# now the magnetisation (mulitply with 1/B) compute with maxima\n",
    "# very long!\n",
    "#diff(log(Z(h, B, J, N)), h);\n",
    "#\n",
    "#(%i4) diff(log(Z(h, B, J, N)), h);\n",
    "#           B cosh(h B) sinh(h B)\n",
    "#(%o4) ((---------------------------- + B sinh(h B))\n",
    "#               - 4 B J       2\n",
    "#        sqrt(%e        + sinh (h B))\n",
    "#         - 4 B J       2                   N - 1\n",
    "# (sqrt(%e        + sinh (h B)) + cosh(h B))      N\n",
    "#                     B cosh(h B) sinh(h B)\n",
    "# + (B sinh(h B) - ----------------------------)\n",
    "#                         - 4 B J       2\n",
    "#                  sqrt(%e        + sinh (h B))\n",
    "#                     - 4 B J       2       N - 1\n",
    "# (cosh(h B) - sqrt(%e        + sinh (h B)))      N)\n",
    "#          - 4 B J       2                   N\n",
    "#/((sqrt(%e        + sinh (h B)) + cosh(h B))\n",
    "#                       - 4 B J       2       N\n",
    "# + (cosh(h B) - sqrt(%e        + sinh (h B))) )\n",
    "\n",
    "getEnsembleMagnetisation <- function(n, ikBT, J, H) {\n",
    "# Derivative of Equation 35 of Wu notes at Standford\n",
    "# Maxima output above\n",
    " if(n < 700) { # This is ad-hoc assumption is that we recover n -> inf solution above this\n",
    "   cHB   <- cosh(H*ikBT)\n",
    "   sHB   <- sinh(H*ikBT)\n",
    "   e4B   <- exp(-4*ikBT*J)\n",
    "   sq4B  <- sqrt(e4B+sHB^2)\n",
    "   isq4B <- ikBT*cHB*sHB/sq4B\n",
    "   # Per site ensemble averaged magnetisation\n",
    "   eMag  <- isq4B + ikBT*sHB\n",
    "   eMag  <- n * eMag * (sq4B+cHB)^(n-1)\n",
    "   eMag  <- eMag + n*(ikBT*sHB - isq4B) * (cHB - sq4B)^(n-1)\n",
    "   eMag  <- eMag * ((sq4B+cHB)^(n) + (cHB-sq4B)^(n))^(-1)\n",
    "   if(is.nan(eMag) || is.infinite(eMag)) return(0.9934344) # 0.9934344 infinite solution\n",
    "   return(eMag/ikBT/n)\n",
    "  } else {\n",
    "   return(0.9934344)\n",
    " }\n",
    "}"
   ]
  },
  {
   "cell_type": "code",
   "execution_count": null,
   "id": "c85eee50",
   "metadata": {
    "vscode": {
     "languageId": "r"
    }
   },
   "outputs": [],
   "source": [
    "#\n",
    "# This is to perform 1D Ising simulation and Getting TM metric\n",
    "# Thirumalai - Mountain Fluctuation Metric\n",
    "#\n",
    "magnetisationMetricTM1D <- function(ikBT, J, H, n, nstep, transP) {\n",
    "  ensembleM <- getEnsembleMagnetisation(n, ikBT, J, H) # ensemble average magnetisation per-site\n",
    "  x         <- genConfig1D(n)\n",
    "  mySim     <- isPerform1D(ikBT, x, J, H, nstep, ensembleM, transP) \n",
    "  time      <- 1:mySim$naccept\n",
    "  # Note that, Metropolis variable names! could be glauber as well depending transP value (1 or 2)\n",
    "  magnetisationMetric <- mySim$omegaM[time]\n",
    "  metropolisTime      <- mySim$times[time]\n",
    "  out                 <- list(magnetisationMetric=magnetisationMetric, metropolisTime=metropolisTime);\n",
    "  out\n",
    "}"
   ]
  },
  {
   "cell_type": "code",
   "execution_count": null,
   "id": "9bcf4fad",
   "metadata": {
    "vscode": {
     "languageId": "r"
    }
   },
   "outputs": [],
   "source": [
    "#\n",
    "# Running a single sim (time vs. magnetisation metric and \n",
    "# generate data file with the parametrisation as fileName\n",
    "#\n",
    "runSim <- function(ikBT, J, H, n, nstep, transP) {\n",
    "    if(transP == 1) dynamicsName <- 'metropolis';\n",
    "    if(transP == 2) dynamicsName <- 'glauber';\n",
    "    out          <- magnetisationMetricTM1D(ikBT, J, H, n, nstep, transP)\n",
    "    # Note that, Metropolis variable names! could be glauber as well depending transP value (1 or 2)\n",
    "    ll           <- 2*length(out$metropolisTime) \n",
    "    timeMag      <- matrix(1:ll, ncol= 2, nrow=length(out$metropolisTime))\n",
    "    timeMag[,1]  <- out$metropolisTime\n",
    "    timeMag[,2]  <- out$magnetisationMetric\n",
    "    timeMag\n",
    "}\n"
   ]
  },
  {
   "cell_type": "code",
   "execution_count": null,
   "id": "d6c699e5",
   "metadata": {
    "vscode": {
     "languageId": "r"
    }
   },
   "outputs": [],
   "source": [
    "#' 2015_ more data to measure the power laws.\n",
    "#' \n",
    "install.packages(\"matlab\")\n"
   ]
  },
  {
   "cell_type": "markdown",
   "id": "b62d8bac",
   "metadata": {},
   "source": [
    "## Generate Data: Ising Model"
   ]
  },
  {
   "cell_type": "code",
   "execution_count": null,
   "id": "53faca7c",
   "metadata": {
    "vscode": {
     "languageId": "r"
    }
   },
   "outputs": [],
   "source": [
    "\n",
    "#' 2015_ more data to measure the power laws.\n",
    "#' \n",
    "library(matlab)\n",
    "\n",
    "# Generate Data \n",
    "# Parameters for scaling law\n",
    "N    <- c(512, 1024)\n",
    "ikBT <- seq(0.5,2.0,0.025)\n",
    "H    <- c(1.0)\n",
    "#\n",
    "J      <- 1.0\n",
    "nstep  <- 2.0e6\n",
    "\n",
    "#' sim parameter lengths\n",
    "nn <- length(N)\n",
    "kk <- length(ikBT)\n",
    "hh <- length(H)"
   ]
  },
  {
   "cell_type": "code",
   "execution_count": null,
   "id": "c8c577a0",
   "metadata": {
    "vscode": {
     "languageId": "r"
    }
   },
   "outputs": [],
   "source": [
    "ising_ergo <- vector(\"list\", nn*kk*hh)\n",
    "l <- 1\n",
    "tic();\n",
    "for(i in 1:nn) {\n",
    "  for(j in 1:kk) {\n",
    "    for(k in 1:hh) {\n",
    "      print(N[i])\n",
    "      print(ikBT[j])\n",
    "      print(H[k])\n",
    "      # magnetisation metric\n",
    "      ising_ergo[[l]]$N          <- N[i]\n",
    "      ising_ergo[[l]]$ikBT       <- ikBT[j]\n",
    "      ising_ergo[[l]]$H          <- H[k]\n",
    "      ising_ergo[[l]]$metropolis <- runSim(ikBT[j], J, H[k], N[i], nstep, 1) # metropolis\n",
    "      ising_ergo[[l]]$glauber    <- runSim(ikBT[j], J, H[k], N[i], nstep, 2) # glauber\n",
    "      l <- l + 1\n",
    "     }\n",
    "   }\n",
    "}\n",
    "toc();"
   ]
  },
  {
   "cell_type": "code",
   "execution_count": null,
   "id": "7f2732c9",
   "metadata": {
    "vscode": {
     "languageId": "r"
    }
   },
   "outputs": [],
   "source": [
    "save(ising_ergo, file=\"ising_ergo.RData\")"
   ]
  }
 ],
 "metadata": {
  "kernelspec": {
   "display_name": "R",
   "language": "R",
   "name": "ir"
  },
  "language_info": {
   "codemirror_mode": "r",
   "file_extension": ".r",
   "mimetype": "text/x-r-source",
   "name": "R",
   "pygments_lexer": "r",
   "version": "4.5.1"
  }
 },
 "nbformat": 4,
 "nbformat_minor": 5
}
